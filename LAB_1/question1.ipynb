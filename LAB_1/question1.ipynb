{
 "cells": [
  {
   "cell_type": "code",
   "execution_count": 2,
   "id": "8a8e3bf5",
   "metadata": {},
   "outputs": [],
   "source": [
    "# Importing numpy and math\n",
    "import numpy as np \n",
    "import math"
   ]
  },
  {
   "cell_type": "code",
   "execution_count": 3,
   "id": "2f563e68",
   "metadata": {},
   "outputs": [],
   "source": [
    "def generate_A(mean,scale,size):\n",
    "  return np.random.normal(mean,scale,size) # getting an random matrix from gausian distribution"
   ]
  },
  {
   "cell_type": "code",
   "execution_count": null,
   "id": "e6af23da",
   "metadata": {},
   "outputs": [
    {
     "name": "stdout",
     "output_type": "stream",
     "text": [
      "8.15316058536417\n"
     ]
    }
   ],
   "source": [
    "def froba_normal(A):   # defining function for frobanious normalization\n",
    "  total=0\n",
    "  for i in range(A.shape[0]): # loop over rows\n",
    "    for j in range(A.shape[1]): # loop over columns\n",
    "      total +=A[i][j]**2\n",
    "  return math.sqrt(total)  # taking square root of summation of square of all elements in matrix\n",
    "\n",
    "mean =0 \n",
    "scale =1\n",
    "while(True):\n",
    "  m,n=int(input(\"m : \")),int(input(\"n : \"))  # getting user input for size of matrix\n",
    "  if m>6 and n > 8:              # conditioning for m and n     \n",
    "    break\n",
    "  else:\n",
    "    print(\"Both m must be > 6 and n must be > 8. Try again.\")\n",
    "size=(m,n)\n",
    "A=generate_A(mean,scale,size) # generating matrix\n",
    "print(froba_normal(A)) # calling function to print norm"
   ]
  },
  {
   "cell_type": "code",
   "execution_count": null,
   "id": "59af0c49",
   "metadata": {},
   "outputs": [],
   "source": []
  }
 ],
 "metadata": {
  "kernelspec": {
   "display_name": "Python 3",
   "language": "python",
   "name": "python3"
  },
  "language_info": {
   "codemirror_mode": {
    "name": "ipython",
    "version": 3
   },
   "file_extension": ".py",
   "mimetype": "text/x-python",
   "name": "python",
   "nbconvert_exporter": "python",
   "pygments_lexer": "ipython3",
   "version": "3.10.8"
  }
 },
 "nbformat": 4,
 "nbformat_minor": 5
}
