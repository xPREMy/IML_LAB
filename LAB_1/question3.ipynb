{
 "cells": [
  {
   "cell_type": "markdown",
   "id": "284455b4",
   "metadata": {},
   "source": [
    "question 3 part 1"
   ]
  },
  {
   "cell_type": "code",
   "execution_count": 13,
   "id": "c7bba416",
   "metadata": {},
   "outputs": [],
   "source": [
    "import numpy as np\n",
    "import pandas as pd\n",
    "import matplotlib.pyplot as plt"
   ]
  },
  {
   "cell_type": "code",
   "execution_count": 2,
   "id": "efb801d7",
   "metadata": {},
   "outputs": [
    {
     "name": "stdout",
     "output_type": "stream",
     "text": [
      "     sepal length  sepal width  petal length  petal width      Iris plant\n",
      "0             5.1          3.5           1.4          0.2     Iris-setosa\n",
      "1             4.9          3.0           1.4          0.2     Iris-setosa\n",
      "2             4.7          3.2           1.3          0.2     Iris-setosa\n",
      "3             4.6          3.1           1.5          0.2     Iris-setosa\n",
      "4             5.0          3.6           1.4          0.2     Iris-setosa\n",
      "..            ...          ...           ...          ...             ...\n",
      "145           6.7          3.0           5.2          2.3  Iris-virginica\n",
      "146           6.3          2.5           5.0          1.9  Iris-virginica\n",
      "147           6.5          3.0           5.2          2.0  Iris-virginica\n",
      "148           6.2          3.4           5.4          2.3  Iris-virginica\n",
      "149           5.9          3.0           5.1          1.8  Iris-virginica\n",
      "\n",
      "[150 rows x 5 columns]\n"
     ]
    }
   ],
   "source": [
    "df=pd.read_csv('iris.txt')\n",
    "print(df)"
   ]
  },
  {
   "cell_type": "code",
   "execution_count": 3,
   "id": "66afa246",
   "metadata": {},
   "outputs": [
    {
     "name": "stdout",
     "output_type": "stream",
     "text": [
      "(a) Covariance Matrix:\n",
      " [[ 0.68569351 -0.03926846  1.27368233  0.5169038 ]\n",
      " [-0.03926846  0.18800403 -0.32171275 -0.11798121]\n",
      " [ 1.27368233 -0.32171275  3.11317942  1.29638747]\n",
      " [ 0.5169038  -0.11798121  1.29638747  0.58241432]]\n"
     ]
    }
   ],
   "source": [
    "X=df.drop(\"Iris plant\", axis=1).values\n",
    "n, d = X.shape\n",
    "C = np.cov(X, rowvar=False)\n",
    "print(\"(a) Covariance Matrix:\\n\", C)"
   ]
  },
  {
   "cell_type": "code",
   "execution_count": 4,
   "id": "d24a72c3",
   "metadata": {},
   "outputs": [
    {
     "name": "stdout",
     "output_type": "stream",
     "text": [
      "[[ 1.         -0.10936925  0.87175416  0.81795363]\n",
      " [-0.10936925  1.         -0.4205161  -0.35654409]\n",
      " [ 0.87175416 -0.4205161   1.          0.9627571 ]\n",
      " [ 0.81795363 -0.35654409  0.9627571   1.        ]]\n"
     ]
    }
   ],
   "source": [
    "corr_matrix = np.corrcoef(X, rowvar=False)\n",
    "triu_indices = np.triu_indices(d, k=1)\n",
    "corr_values = corr_matrix[triu_indices]\n",
    "print(corr_matrix)"
   ]
  },
  {
   "cell_type": "code",
   "execution_count": 5,
   "id": "fef793ea",
   "metadata": {},
   "outputs": [],
   "source": [
    "max_corr_idx = np.argmax(corr_values)\n",
    "min_corr_idx = np.argmin(corr_values)"
   ]
  },
  {
   "cell_type": "code",
   "execution_count": 6,
   "id": "5297ec55",
   "metadata": {},
   "outputs": [
    {
     "name": "stdout",
     "output_type": "stream",
     "text": [
      "\n",
      "(b) Most positively correlated features: ('petal length', 'petal width') with correlation = 0.9627570970509659\n",
      "Most negatively correlated features: ('sepal width', 'petal length') with correlation = -0.42051609640115445\n",
      "Least correlated (closest to 0): ('sepal length', 'sepal width') with correlation = -0.1093692499506493\n"
     ]
    }
   ],
   "source": [
    "feature_names = df.columns\n",
    "pairs = list(zip(triu_indices[0], triu_indices[1]))\n",
    "\n",
    "print(\"\\n(b) Most positively correlated features:\",\n",
    "      (feature_names[pairs[max_corr_idx][0]], feature_names[pairs[max_corr_idx][1]]),\n",
    "      \"with correlation =\", corr_values[max_corr_idx])\n",
    "\n",
    "print(\"Most negatively correlated features:\",\n",
    "      (feature_names[pairs[min_corr_idx][0]], feature_names[pairs[min_corr_idx][1]]),\n",
    "      \"with correlation =\", corr_values[min_corr_idx])\n",
    "\n",
    "print(\"Least correlated (closest to 0):\",\n",
    "      (feature_names[pairs[np.argmin(np.abs(corr_values))][0]],\n",
    "       feature_names[pairs[np.argmin(np.abs(corr_values))][1]]),\n",
    "      \"with correlation =\", corr_values[np.argmin(np.abs(corr_values))])"
   ]
  },
  {
   "cell_type": "code",
   "execution_count": 11,
   "id": "441fba6a",
   "metadata": {},
   "outputs": [
    {
     "name": "stdout",
     "output_type": "stream",
     "text": [
      "\n",
      "(c) Sample means:\n",
      " sepal length    5.843333\n",
      "sepal width     3.054000\n",
      "petal length    3.758667\n",
      "petal width     1.198667\n",
      "dtype: float64\n",
      "Sample variances:\n",
      " sepal length    0.685694\n",
      "sepal width     0.188004\n",
      "petal length    3.113179\n",
      "petal width     0.582414\n",
      "dtype: float64\n"
     ]
    }
   ],
   "source": [
    "df2=df.drop('Iris plant',axis=1)\n",
    "means =df2.mean()\n",
    "variances = df2.var(ddof=1)  # sample variance (ddof=1)\n",
    "print(\"\\n(c) Sample means:\\n\", means)\n",
    "print(\"Sample variances:\\n\", variances)"
   ]
  },
  {
   "cell_type": "code",
   "execution_count": 12,
   "id": "1d61862e",
   "metadata": {},
   "outputs": [
    {
     "name": "stdout",
     "output_type": "stream",
     "text": [
      "\n",
      "(d) Eigenvalues of covariance matrix:\n",
      " [0.02368303 0.07852391 0.24224357 4.22484077]\n"
     ]
    }
   ],
   "source": [
    "eigenvalues, eigenvectors = np.linalg.eigh(C)  # eigh since C is symmetric\n",
    "print(\"\\n(d) Eigenvalues of covariance matrix:\\n\", eigenvalues)"
   ]
  },
  {
   "cell_type": "code",
   "execution_count": null,
   "id": "0e8c9378",
   "metadata": {},
   "outputs": [],
   "source": []
  }
 ],
 "metadata": {
  "kernelspec": {
   "display_name": "Python 3",
   "language": "python",
   "name": "python3"
  },
  "language_info": {
   "codemirror_mode": {
    "name": "ipython",
    "version": 3
   },
   "file_extension": ".py",
   "mimetype": "text/x-python",
   "name": "python",
   "nbconvert_exporter": "python",
   "pygments_lexer": "ipython3",
   "version": "3.10.8"
  }
 },
 "nbformat": 4,
 "nbformat_minor": 5
}
