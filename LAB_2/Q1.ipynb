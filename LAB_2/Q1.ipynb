{
 "cells": [
  {
   "cell_type": "code",
   "execution_count": 121,
   "id": "f9be4a0b",
   "metadata": {},
   "outputs": [],
   "source": [
    "import numpy as np\n",
    "import pandas as pd\n",
    "import matplotlib.pyplot as plt"
   ]
  },
  {
   "cell_type": "code",
   "execution_count": 122,
   "id": "6cdfad5e",
   "metadata": {},
   "outputs": [
    {
     "name": "stdout",
     "output_type": "stream",
     "text": [
      "       X1     X2     X3      X4   X5  X6    X7  X8      Y\n",
      "0    0.62  808.5  367.5  220.50  3.5   2  0.40   3  16.47\n",
      "1    0.66  759.5  318.5  220.50  3.5   2  0.25   1  13.17\n",
      "2    0.98  514.5  294.0  110.25  7.0   2  0.40   3  32.82\n",
      "3    0.79  637.0  343.0  147.00  7.0   4  0.40   4  41.32\n",
      "4    0.64  784.0  343.0  220.50  3.5   3  0.25   4  16.69\n",
      "..    ...    ...    ...     ...  ...  ..   ...  ..    ...\n",
      "763  0.76  661.5  416.5  122.50  7.0   5  0.10   1  32.21\n",
      "764  0.86  588.0  294.0  147.00  7.0   4  0.10   2  26.33\n",
      "765  0.71  710.5  269.5  220.50  3.5   4  0.10   5  10.67\n",
      "766  0.98  514.5  294.0  110.25  7.0   5  0.25   4  28.62\n",
      "767  0.90  563.5  318.5  122.50  7.0   4  0.10   2  28.83\n",
      "\n",
      "[768 rows x 9 columns]\n",
      "[[6.200e-01 8.085e+02 3.675e+02 ... 4.000e-01 3.000e+00 1.000e+00]\n",
      " [6.600e-01 7.595e+02 3.185e+02 ... 2.500e-01 1.000e+00 1.000e+00]\n",
      " [9.800e-01 5.145e+02 2.940e+02 ... 4.000e-01 3.000e+00 1.000e+00]\n",
      " ...\n",
      " [7.100e-01 7.105e+02 2.695e+02 ... 1.000e-01 5.000e+00 1.000e+00]\n",
      " [9.800e-01 5.145e+02 2.940e+02 ... 2.500e-01 4.000e+00 1.000e+00]\n",
      " [9.000e-01 5.635e+02 3.185e+02 ... 1.000e-01 2.000e+00 1.000e+00]]\n"
     ]
    }
   ],
   "source": [
    "df=pd.read_excel(\"Q1.xlsx\")\n",
    "df=df.sample(frac=1,random_state=42).reset_index(drop=True)\n",
    "print(df)\n",
    "\n",
    "X=df.drop(\"Y\",axis=1).values.astype(float)\n",
    "ones=np.ones((X.shape[0],1))\n",
    "X=np.column_stack((X,ones))\n",
    "Y=df[\"Y\"].values.astype(float)\n",
    "Y=np.expand_dims(Y,axis=1)\n",
    "print(X)"
   ]
  },
  {
   "cell_type": "code",
   "execution_count": 123,
   "id": "90d2ce85",
   "metadata": {},
   "outputs": [
    {
     "name": "stdout",
     "output_type": "stream",
     "text": [
      "(537, 9) (537, 1)\n",
      "(116, 9) (116, 1)\n"
     ]
    }
   ],
   "source": [
    "def train_test_split(X,Y,split):\n",
    "    # split belongs [0,1]\n",
    "    split_num=int(Y.shape[0]*split)\n",
    "    Y_1=Y[:split_num,:]\n",
    "    Y_2=Y[split_num:,:]\n",
    "    X_1=X[:split_num,:]\n",
    "    X_2=X[split_num:,:]\n",
    "    return X_1,X_2,Y_1,Y_2\n",
    "# seperating traing set for 70%\n",
    "x_train,xtem,y_train,ytem=train_test_split(X,Y,split=0.7)\n",
    "print(x_train.shape,y_train.shape)\n",
    "# seperating cross validation(15%) and testing set(15%) split=0.5\n",
    "x_val,x_test,y_val,y_test=train_test_split(xtem,ytem,split=0.5)\n",
    "print(x_test.shape,y_test.shape)"
   ]
  },
  {
   "cell_type": "code",
   "execution_count": 124,
   "id": "c5fb69f2",
   "metadata": {},
   "outputs": [
    {
     "name": "stdout",
     "output_type": "stream",
     "text": [
      "0.0 599.2906108802084\n"
     ]
    }
   ],
   "source": [
    "theta=np.zeros((X.shape[1],1)) # defined theta for parameters\n",
    "\n",
    "def h(xi):\n",
    "    xi=np.expand_dims(xi,axis=0)\n",
    "    # xi will be an matrix so x_i.shape == (1,9)\n",
    "    r=xi@theta\n",
    "    return r[0][0]\n",
    "\n",
    "def error(X,theta,Y):\n",
    "    r=((X@theta-Y).T @ (X@theta-Y))/X.shape[0]\n",
    "    return r[0][0]\n",
    "\n",
    "print(h(x_train[0]),error(X,theta,Y))"
   ]
  },
  {
   "cell_type": "markdown",
   "id": "9b293d4a",
   "metadata": {},
   "source": [
    "Q1 part 1"
   ]
  },
  {
   "cell_type": "code",
   "execution_count": 127,
   "id": "118ecf8e",
   "metadata": {},
   "outputs": [
    {
     "name": "stdout",
     "output_type": "stream",
     "text": [
      "cond(X^T X) = 2.098873410281493e+19\n"
     ]
    }
   ],
   "source": [
    "XtX = x_train.T @ x_train\n",
    "print(\"cond(X^T X) =\", np.linalg.cond(XtX))\n",
    "# conditioning value is much high so we will use np.linalg.pinv(X)=(X.T@X)@X.T it will give an pseudo value"
   ]
  },
  {
   "cell_type": "code",
   "execution_count": null,
   "id": "4e7c03b0",
   "metadata": {},
   "outputs": [
    {
     "name": "stdout",
     "output_type": "stream",
     "text": [
      "[[-6.93076023e+01]\n",
      " [-6.67350686e-02]\n",
      " [ 3.47384540e-02]\n",
      " [-5.07367618e-02]\n",
      " [ 4.23852278e+00]\n",
      " [-7.57597601e-02]\n",
      " [ 2.00831410e+01]\n",
      " [ 1.60475703e-01]\n",
      " [ 9.09310768e+01]] (9, 1)\n",
      "8.810565450206356\n",
      "7.9428421412048555\n",
      "7.920323307311352\n"
     ]
    }
   ],
   "source": [
    "\n",
    "theta_1 = np.linalg.pinv(x_train) @ y_train\n",
    "print(theta_1,theta_1.shape)\n",
    "err=error(x_train,theta_1,y_train)\n",
    "print(err)\n",
    "print(error(x_val,theta_1,y_val))\n",
    "print(error(x_test,theta_1,y_test))\n"
   ]
  },
  {
   "cell_type": "markdown",
   "id": "e7d3d50d",
   "metadata": {},
   "source": [
    "Q1 part 2"
   ]
  },
  {
   "cell_type": "code",
   "execution_count": null,
   "id": "9715907c",
   "metadata": {},
   "outputs": [],
   "source": [
    "class linear_regression_model:\n",
    "    def __init__(self):\n",
    "        self.weights=None\n",
    "        self.alpha=None\n",
    "        self.error_T=[]\n",
    "        self.error_val=[]\n",
    "        self.epochs=None\n",
    "    def fit(xt,yt,xv,yv,alpha,epochs,self):\n",
    "        self.weights=np.zeros((xt.shape[1],1)) # weight initialization\n",
    "        self.alpha=alpha\n",
    "        self.epochs=epochs\n",
    "        for i in range(self.epochs):\n",
    "            self.weights=self.weights-self.alpha*(xt.T@(xt@self.weights-yt))\n",
    "            self.error_T.append(error(xt,self.weights,yt))\n",
    "            self.error_val.append(error(xv,self.weights,yv))\n"
   ]
  }
 ],
 "metadata": {
  "kernelspec": {
   "display_name": "Python 3",
   "language": "python",
   "name": "python3"
  },
  "language_info": {
   "codemirror_mode": {
    "name": "ipython",
    "version": 3
   },
   "file_extension": ".py",
   "mimetype": "text/x-python",
   "name": "python",
   "nbconvert_exporter": "python",
   "pygments_lexer": "ipython3",
   "version": "3.10.8"
  }
 },
 "nbformat": 4,
 "nbformat_minor": 5
}
